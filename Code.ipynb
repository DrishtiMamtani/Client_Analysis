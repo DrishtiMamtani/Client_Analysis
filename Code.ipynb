{
 "cells": [
  {
   "cell_type": "code",
   "execution_count": 349,
   "metadata": {},
   "outputs": [],
   "source": [
    "import pandas as pd \n",
    "import numpy as np\n",
    "from sklearn import preprocessing\n",
    "from numpy.linalg import inv\n",
    "from sklearn.linear_model import LinearRegression\n",
    "data=pd.read_excel(\"Questionnaire _data.xlsx\",header=None)"
   ]
  },
  {
   "cell_type": "code",
   "execution_count": 350,
   "metadata": {},
   "outputs": [
    {
     "data": {
      "text/html": [
       "<div>\n",
       "<style scoped>\n",
       "    .dataframe tbody tr th:only-of-type {\n",
       "        vertical-align: middle;\n",
       "    }\n",
       "\n",
       "    .dataframe tbody tr th {\n",
       "        vertical-align: top;\n",
       "    }\n",
       "\n",
       "    .dataframe thead th {\n",
       "        text-align: right;\n",
       "    }\n",
       "</style>\n",
       "<table border=\"1\" class=\"dataframe\">\n",
       "  <thead>\n",
       "    <tr style=\"text-align: right;\">\n",
       "      <th></th>\n",
       "      <th>0</th>\n",
       "      <th>1</th>\n",
       "      <th>2</th>\n",
       "      <th>3</th>\n",
       "      <th>4</th>\n",
       "      <th>5</th>\n",
       "      <th>6</th>\n",
       "      <th>7</th>\n",
       "      <th>8</th>\n",
       "      <th>9</th>\n",
       "      <th>...</th>\n",
       "      <th>123</th>\n",
       "      <th>124</th>\n",
       "      <th>125</th>\n",
       "      <th>126</th>\n",
       "      <th>127</th>\n",
       "      <th>128</th>\n",
       "      <th>129</th>\n",
       "      <th>130</th>\n",
       "      <th>131</th>\n",
       "      <th>132</th>\n",
       "    </tr>\n",
       "  </thead>\n",
       "  <tbody>\n",
       "    <tr>\n",
       "      <th>0</th>\n",
       "      <td>S.No</td>\n",
       "      <td>Age</td>\n",
       "      <td>Occupation</td>\n",
       "      <td>Married</td>\n",
       "      <td>No. Children</td>\n",
       "      <td>Q.1.1</td>\n",
       "      <td>Q.1.2</td>\n",
       "      <td>Q.1.3</td>\n",
       "      <td>Q.1.4</td>\n",
       "      <td>Q.1.5</td>\n",
       "      <td>...</td>\n",
       "      <td>Q.30.3</td>\n",
       "      <td>WEIGHT(kg)</td>\n",
       "      <td>HEIGHT(cm)</td>\n",
       "      <td>BMI</td>\n",
       "      <td>V.FAT</td>\n",
       "      <td>B.P</td>\n",
       "      <td>B.P</td>\n",
       "      <td>TUMMY(cm)</td>\n",
       "      <td>HIPS(cm)</td>\n",
       "      <td>waist(cm)</td>\n",
       "    </tr>\n",
       "  </tbody>\n",
       "</table>\n",
       "<p>1 rows × 133 columns</p>\n",
       "</div>"
      ],
      "text/plain": [
       "    0    1           2        3             4      5      6      7      8    \\\n",
       "0  S.No  Age  Occupation  Married  No. Children  Q.1.1  Q.1.2  Q.1.3  Q.1.4   \n",
       "\n",
       "     9    ...     123         124         125  126    127  128  129  \\\n",
       "0  Q.1.5  ...  Q.30.3  WEIGHT(kg)  HEIGHT(cm)  BMI  V.FAT  B.P  B.P   \n",
       "\n",
       "         130       131        132  \n",
       "0  TUMMY(cm)  HIPS(cm)  waist(cm)  \n",
       "\n",
       "[1 rows x 133 columns]"
      ]
     },
     "execution_count": 350,
     "metadata": {},
     "output_type": "execute_result"
    }
   ],
   "source": [
    "data.head(1)"
   ]
  },
  {
   "cell_type": "code",
   "execution_count": 351,
   "metadata": {},
   "outputs": [],
   "source": [
    "X=data[[125,126,127,128,129,130,131,132]].iloc[:][1:]\n",
    "y=data[124].iloc[:][1:]\n",
    "X.reset_index(inplace = True, drop = True) \n",
    "y.reset_index(inplace = True, drop = True) \n",
    "X.columns=[0,1,2,3,4,5,6,7]\n",
    "from sklearn.model_selection import train_test_split \n",
    "x_train, x_test, y_train, y_test = train_test_split(X, y, test_size=0.3, random_state=1) \n",
    "x_train.reset_index(inplace = True, drop = True) \n",
    "x_test.reset_index(inplace = True, drop = True) \n",
    "y_train.reset_index(inplace = True, drop = True) \n",
    "y_test.reset_index(inplace = True, drop = True) \n",
    "n=x_train[0].count()"
   ]
  },
  {
   "cell_type": "code",
   "execution_count": 352,
   "metadata": {},
   "outputs": [],
   "source": [
    "from sklearn.linear_model import LinearRegression\n",
    "reg = LinearRegression().fit(x_train, y_train)"
   ]
  },
  {
   "cell_type": "code",
   "execution_count": 353,
   "metadata": {},
   "outputs": [
    {
     "data": {
      "text/plain": [
       "array([ 0.87824202,  1.64800108,  0.43272804, -0.02195674,  0.01642797,\n",
       "        0.07700348,  0.04265849,  0.01940389])"
      ]
     },
     "execution_count": 353,
     "metadata": {},
     "output_type": "execute_result"
    }
   ],
   "source": [
    "a=reg.coef_\n",
    "a"
   ]
  },
  {
   "cell_type": "code",
   "execution_count": 354,
   "metadata": {},
   "outputs": [],
   "source": [
    "b=reg.intercept_"
   ]
  },
  {
   "cell_type": "code",
   "execution_count": 355,
   "metadata": {},
   "outputs": [],
   "source": [
    "W=np.array([b,a[0],a[1],a[2],a[3],a[4],a[5],a[6],a[7]])"
   ]
  },
  {
   "cell_type": "code",
   "execution_count": 356,
   "metadata": {},
   "outputs": [],
   "source": [
    "w0=W[0]\n",
    "w1=W[1]\n",
    "w2=W[2]\n",
    "w3=W[3]\n",
    "w4=W[4]\n",
    "w5=W[5]\n",
    "w6=W[6]\n",
    "w7=W[7]\n",
    "w8=W[8]"
   ]
  },
  {
   "cell_type": "code",
   "execution_count": 357,
   "metadata": {},
   "outputs": [],
   "source": [
    "W=pd.DataFrame(W)\n",
    "W.to_csv('Results.csv', mode='a', index = False, header=None)\n"
   ]
  },
  {
   "cell_type": "code",
   "execution_count": 358,
   "metadata": {},
   "outputs": [],
   "source": [
    "y_pred=w0+x_test[0]*w1+x_test[1]*w2+x_test[2]*w3+x_test[3]*w4+x_test[4]*w5+x_test[5]*w6+x_test[6]*w7+x_test[7]*w8\n"
   ]
  },
  {
   "cell_type": "code",
   "execution_count": 359,
   "metadata": {},
   "outputs": [
    {
     "data": {
      "text/plain": [
       "68.57301587301586"
      ]
     },
     "execution_count": 359,
     "metadata": {},
     "output_type": "execute_result"
    }
   ],
   "source": [
    "ybar=y_test.mean()\n",
    "ybar"
   ]
  },
  {
   "cell_type": "code",
   "execution_count": 360,
   "metadata": {},
   "outputs": [],
   "source": [
    "n=y_test.count()\n",
    "p=8\n",
    "for i in range(0,n):\n",
    "    y_pred[i]=round(y_pred[i],1)"
   ]
  },
  {
   "cell_type": "code",
   "execution_count": 361,
   "metadata": {},
   "outputs": [],
   "source": [
    "SSR=0\n",
    "SST=0\n",
    "SSE=0\n",
    "for i in range (0,n):\n",
    "    SST=SST+(y_test[i]-ybar)*(y_test[i]-ybar)\n",
    "    SSR=SSR+(y_pred[i]-ybar)*(y_pred[i]-ybar)\n",
    "    SSE=SSE+(y_test[i]-y_pred[i])*(y_test[i]-y_pred[i])\n",
    "    "
   ]
  },
  {
   "cell_type": "code",
   "execution_count": 362,
   "metadata": {},
   "outputs": [],
   "source": [
    "RR=SSR/SST"
   ]
  },
  {
   "cell_type": "code",
   "execution_count": 363,
   "metadata": {},
   "outputs": [
    {
     "data": {
      "text/plain": [
       "0.9777976840194104"
      ]
     },
     "execution_count": 363,
     "metadata": {},
     "output_type": "execute_result"
    }
   ],
   "source": [
    "RR"
   ]
  },
  {
   "cell_type": "code",
   "execution_count": 364,
   "metadata": {},
   "outputs": [],
   "source": [
    "Adjusted_RR=1-((1-RR)*(n-1))/(n-p-1)"
   ]
  },
  {
   "cell_type": "code",
   "execution_count": 365,
   "metadata": {},
   "outputs": [
    {
     "data": {
      "text/plain": [
       "0.974508452022286"
      ]
     },
     "execution_count": 365,
     "metadata": {},
     "output_type": "execute_result"
    }
   ],
   "source": [
    "Adjusted_RR"
   ]
  },
  {
   "cell_type": "code",
   "execution_count": 377,
   "metadata": {},
   "outputs": [
    {
     "data": {
      "text/plain": [
       "718.0682341269844"
      ]
     },
     "execution_count": 377,
     "metadata": {},
     "output_type": "execute_result"
    }
   ],
   "source": [
    "MSR=SSR/p\n",
    "MSR"
   ]
  },
  {
   "cell_type": "code",
   "execution_count": 378,
   "metadata": {},
   "outputs": [
    {
     "data": {
      "text/plain": [
       "1.6012962962962944"
      ]
     },
     "execution_count": 378,
     "metadata": {},
     "output_type": "execute_result"
    }
   ],
   "source": [
    "MSE=SSE/(n-p-1)\n",
    "MSE"
   ]
  },
  {
   "cell_type": "code",
   "execution_count": 379,
   "metadata": {},
   "outputs": [],
   "source": [
    "F=MSR/MSE"
   ]
  },
  {
   "cell_type": "code",
   "execution_count": 381,
   "metadata": {},
   "outputs": [
    {
     "data": {
      "text/plain": [
       "448.4293355251209"
      ]
     },
     "execution_count": 381,
     "metadata": {},
     "output_type": "execute_result"
    }
   ],
   "source": [
    "F"
   ]
  },
  {
   "cell_type": "code",
   "execution_count": 370,
   "metadata": {},
   "outputs": [
    {
     "data": {
      "text/plain": [
       "5744.545873015875"
      ]
     },
     "execution_count": 370,
     "metadata": {},
     "output_type": "execute_result"
    }
   ],
   "source": [
    "SSR"
   ]
  },
  {
   "cell_type": "code",
   "execution_count": 371,
   "metadata": {},
   "outputs": [
    {
     "data": {
      "text/plain": [
       "5874.984126984125"
      ]
     },
     "execution_count": 371,
     "metadata": {},
     "output_type": "execute_result"
    }
   ],
   "source": [
    "SST"
   ]
  },
  {
   "cell_type": "code",
   "execution_count": 372,
   "metadata": {},
   "outputs": [
    {
     "data": {
      "text/plain": [
       "86.4699999999999"
      ]
     },
     "execution_count": 372,
     "metadata": {},
     "output_type": "execute_result"
    }
   ],
   "source": [
    "SSE"
   ]
  },
  {
   "cell_type": "code",
   "execution_count": 343,
   "metadata": {},
   "outputs": [
    {
     "data": {
      "text/plain": [
       "0    70.1\n",
       "1    54.8\n",
       "2    72.9\n",
       "3      78\n",
       "4    64.3\n",
       "dtype: object"
      ]
     },
     "execution_count": 343,
     "metadata": {},
     "output_type": "execute_result"
    }
   ],
   "source": [
    "y_pred.head()"
   ]
  },
  {
   "cell_type": "code",
   "execution_count": 344,
   "metadata": {},
   "outputs": [
    {
     "data": {
      "text/plain": [
       "1.372539682539681"
      ]
     },
     "execution_count": 344,
     "metadata": {},
     "output_type": "execute_result"
    }
   ],
   "source": [
    "from sklearn.metrics import mean_squared_error\n",
    "mean_squared_error(y_test, y_pred)"
   ]
  },
  {
   "cell_type": "code",
   "execution_count": 384,
   "metadata": {},
   "outputs": [],
   "source": [
    "s=np.sqrt(MSE)"
   ]
  },
  {
   "cell_type": "code",
   "execution_count": 399,
   "metadata": {},
   "outputs": [
    {
     "data": {
      "text/plain": [
       "1.2654233664257566"
      ]
     },
     "execution_count": 399,
     "metadata": {},
     "output_type": "execute_result"
    }
   ],
   "source": [
    "s"
   ]
  },
  {
   "cell_type": "code",
   "execution_count": 400,
   "metadata": {},
   "outputs": [],
   "source": [
    "xw1bar=x_train[0].mean()\n",
    "xw2bar=x_train[1].mean()\n",
    "xw3bar=x_train[2].mean()\n",
    "xw4bar=x_train[3].mean()\n",
    "xw5bar=x_train[4].mean()\n",
    "xw6bar=x_train[5].mean()\n",
    "xw7bar=x_train[6].mean()\n",
    "xw8bar=x_train[7].mean()"
   ]
  },
  {
   "cell_type": "code",
   "execution_count": 401,
   "metadata": {},
   "outputs": [],
   "source": [
    "sumx1=0\n",
    "sumx2=0\n",
    "sumx3=0\n",
    "sumx4=0\n",
    "sumx5=0\n",
    "sumx6=0\n",
    "sumx7=0\n",
    "sumx8=0"
   ]
  },
  {
   "cell_type": "code",
   "execution_count": 402,
   "metadata": {},
   "outputs": [
    {
     "data": {
      "text/plain": [
       "157"
      ]
     },
     "execution_count": 402,
     "metadata": {},
     "output_type": "execute_result"
    }
   ],
   "source": [
    "x_test[0][0]"
   ]
  },
  {
   "cell_type": "code",
   "execution_count": 403,
   "metadata": {},
   "outputs": [],
   "source": [
    "for i in range(0,n):\n",
    "    sumx1=sumx1+(x_test[0][i]-xw1bar)*(x_test[0][i]-xw1bar)\n",
    "    sumx2=sumx2+(x_test[1][i]-xw2bar)*(x_test[1][i]-xw2bar)\n",
    "    sumx3=sumx3+(x_test[2][i]-xw3bar)*(x_test[2][i]-xw3bar)\n",
    "    sumx4=sumx4+(x_test[3][i]-xw4bar)*(x_test[3][i]-xw4bar)\n",
    "    sumx5=sumx5+(x_test[4][i]-xw5bar)*(x_test[4][i]-xw5bar)\n",
    "    sumx6=sumx6+(x_test[5][i]-xw6bar)*(x_test[5][i]-xw6bar)\n",
    "    sumx7=sumx7+(x_test[6][i]-xw7bar)*(x_test[6][i]-xw7bar)\n",
    "    sumx8=sumx8+(x_test[7][i]-xw8bar)*(x_test[7][i]-xw8bar)"
   ]
  },
  {
   "cell_type": "code",
   "execution_count": 406,
   "metadata": {},
   "outputs": [],
   "source": [
    "sw1=s/np.sqrt(sumx1)\n",
    "sw1"
   ]
  },
  {
   "cell_type": "code",
   "execution_count": 410,
   "metadata": {},
   "outputs": [
    {
     "data": {
      "text/plain": [
       "24.70605994109589"
      ]
     },
     "execution_count": 410,
     "metadata": {},
     "output_type": "execute_result"
    }
   ],
   "source": [
    "t=w1/sw1\n",
    "t"
   ]
  },
  {
   "cell_type": "code",
   "execution_count": 409,
   "metadata": {},
   "outputs": [
    {
     "data": {
      "text/plain": [
       "24.70605994109589"
      ]
     },
     "execution_count": 409,
     "metadata": {},
     "output_type": "execute_result"
    }
   ],
   "source": []
  },
  {
   "cell_type": "code",
   "execution_count": null,
   "metadata": {},
   "outputs": [],
   "source": []
  }
 ],
 "metadata": {
  "kernelspec": {
   "display_name": "Python 3",
   "language": "python",
   "name": "python3"
  }
 },
 "nbformat": 4,
 "nbformat_minor": 2
}
