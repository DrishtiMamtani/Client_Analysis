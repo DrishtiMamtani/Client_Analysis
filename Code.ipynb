{
 "cells": [
  {
   "cell_type": "code",
   "execution_count": 1374,
   "metadata": {},
   "outputs": [],
   "source": [
    "import pandas as pd \n",
    "import numpy as np\n",
    "from sklearn import preprocessing\n",
    "from numpy.linalg import inv\n",
    "from sklearn.linear_model import LinearRegression\n",
    "data=pd.read_excel(\"Questionnaire _data.xlsx\",header=None)"
   ]
  },
  {
   "cell_type": "code",
   "execution_count": 1375,
   "metadata": {},
   "outputs": [
    {
     "data": {
      "text/html": [
       "<div>\n",
       "<style scoped>\n",
       "    .dataframe tbody tr th:only-of-type {\n",
       "        vertical-align: middle;\n",
       "    }\n",
       "\n",
       "    .dataframe tbody tr th {\n",
       "        vertical-align: top;\n",
       "    }\n",
       "\n",
       "    .dataframe thead th {\n",
       "        text-align: right;\n",
       "    }\n",
       "</style>\n",
       "<table border=\"1\" class=\"dataframe\">\n",
       "  <thead>\n",
       "    <tr style=\"text-align: right;\">\n",
       "      <th></th>\n",
       "      <th>0</th>\n",
       "      <th>1</th>\n",
       "      <th>2</th>\n",
       "      <th>3</th>\n",
       "      <th>4</th>\n",
       "      <th>5</th>\n",
       "      <th>6</th>\n",
       "      <th>7</th>\n",
       "      <th>8</th>\n",
       "      <th>9</th>\n",
       "      <th>...</th>\n",
       "      <th>123</th>\n",
       "      <th>124</th>\n",
       "      <th>125</th>\n",
       "      <th>126</th>\n",
       "      <th>127</th>\n",
       "      <th>128</th>\n",
       "      <th>129</th>\n",
       "      <th>130</th>\n",
       "      <th>131</th>\n",
       "      <th>132</th>\n",
       "    </tr>\n",
       "  </thead>\n",
       "  <tbody>\n",
       "    <tr>\n",
       "      <th>0</th>\n",
       "      <td>S.No</td>\n",
       "      <td>Age</td>\n",
       "      <td>Occupation</td>\n",
       "      <td>Married</td>\n",
       "      <td>No. Children</td>\n",
       "      <td>Q.1.1</td>\n",
       "      <td>Q.1.2</td>\n",
       "      <td>Q.1.3</td>\n",
       "      <td>Q.1.4</td>\n",
       "      <td>Q.1.5</td>\n",
       "      <td>...</td>\n",
       "      <td>Q.30.3</td>\n",
       "      <td>WEIGHT(kg)</td>\n",
       "      <td>HEIGHT(cm)</td>\n",
       "      <td>BMI</td>\n",
       "      <td>V.FAT</td>\n",
       "      <td>B.P</td>\n",
       "      <td>B.P</td>\n",
       "      <td>TUMMY(cm)</td>\n",
       "      <td>HIPS(cm)</td>\n",
       "      <td>waist(cm)</td>\n",
       "    </tr>\n",
       "  </tbody>\n",
       "</table>\n",
       "<p>1 rows × 133 columns</p>\n",
       "</div>"
      ],
      "text/plain": [
       "    0    1           2        3             4      5      6      7      8    \\\n",
       "0  S.No  Age  Occupation  Married  No. Children  Q.1.1  Q.1.2  Q.1.3  Q.1.4   \n",
       "\n",
       "     9    ...     123         124         125  126    127  128  129  \\\n",
       "0  Q.1.5  ...  Q.30.3  WEIGHT(kg)  HEIGHT(cm)  BMI  V.FAT  B.P  B.P   \n",
       "\n",
       "         130       131        132  \n",
       "0  TUMMY(cm)  HIPS(cm)  waist(cm)  \n",
       "\n",
       "[1 rows x 133 columns]"
      ]
     },
     "execution_count": 1375,
     "metadata": {},
     "output_type": "execute_result"
    }
   ],
   "source": [
    "data.head(1)"
   ]
  },
  {
   "cell_type": "code",
   "execution_count": 1376,
   "metadata": {},
   "outputs": [],
   "source": [
    "X=data[[124,125,127,128,129,130,131,132]].iloc[:][1:]\n",
    "y=data[126].iloc[:][1:]\n",
    "X.reset_index(inplace = True, drop = True) \n",
    "y.reset_index(inplace = True, drop = True) \n",
    "X.columns=[0,1,2,3,4,5,6,7]\n",
    "from sklearn.model_selection import train_test_split \n",
    "x_train, x_test, y_train, y_test = train_test_split(X, y, test_size=0.1, random_state=1) \n",
    "x_train.reset_index(inplace = True, drop = True) \n",
    "x_test.reset_index(inplace = True, drop = True) \n",
    "y_train.reset_index(inplace = True, drop = True) \n",
    "y_test.reset_index(inplace = True, drop = True) \n",
    "n=x_train[0].count()"
   ]
  },
  {
   "cell_type": "code",
   "execution_count": 1377,
   "metadata": {},
   "outputs": [],
   "source": [
    "from sklearn.linear_model import LinearRegression\n",
    "reg = LinearRegression().fit(x_train, y_train)"
   ]
  },
  {
   "cell_type": "code",
   "execution_count": 1378,
   "metadata": {},
   "outputs": [
    {
     "data": {
      "text/plain": [
       "array([ 0.38939705, -0.33580055,  0.05737404,  0.00344123, -0.00362415,\n",
       "       -0.02778505,  0.0148731 ,  0.01165747])"
      ]
     },
     "execution_count": 1378,
     "metadata": {},
     "output_type": "execute_result"
    }
   ],
   "source": [
    "a=reg.coef_\n",
    "a"
   ]
  },
  {
   "cell_type": "code",
   "execution_count": 1379,
   "metadata": {},
   "outputs": [],
   "source": [
    "b=reg.intercept_"
   ]
  },
  {
   "cell_type": "code",
   "execution_count": 1380,
   "metadata": {},
   "outputs": [],
   "source": [
    "W=np.array([b,a[0],a[1],a[2],a[3],a[4],a[5],a[6],a[7]])"
   ]
  },
  {
   "cell_type": "code",
   "execution_count": 1381,
   "metadata": {},
   "outputs": [],
   "source": [
    "w0=W[0]\n",
    "w1=W[1]\n",
    "w2=W[2]\n",
    "w3=W[3]\n",
    "w4=W[4]\n",
    "w5=W[5]\n",
    "w6=W[6]\n",
    "w7=W[7]\n",
    "w8=W[8]"
   ]
  },
  {
   "cell_type": "code",
   "execution_count": 1382,
   "metadata": {},
   "outputs": [],
   "source": [
    "W=pd.DataFrame(W)\n",
    "W.to_csv('Results.csv', mode='a', index = False, header=None)\n"
   ]
  },
  {
   "cell_type": "code",
   "execution_count": 1383,
   "metadata": {},
   "outputs": [],
   "source": [
    "y_pred=w0+x_test[0]*w1+x_test[1]*w2+x_test[2]*w3+x_test[3]*w4+x_test[4]*w5+x_test[5]*w6+x_test[6]*w7+x_test[7]*w8\n"
   ]
  },
  {
   "cell_type": "code",
   "execution_count": 1384,
   "metadata": {},
   "outputs": [
    {
     "data": {
      "text/plain": [
       "28.80476190476191"
      ]
     },
     "execution_count": 1384,
     "metadata": {},
     "output_type": "execute_result"
    }
   ],
   "source": [
    "ybar=y_test.mean()\n",
    "ybar"
   ]
  },
  {
   "cell_type": "code",
   "execution_count": 1385,
   "metadata": {},
   "outputs": [],
   "source": [
    "n=y_test.count()\n",
    "p=8\n",
    "for i in range(0,n):\n",
    "    y_pred[i]=round(y_pred[i],1)\n",
    "    y_test[i]=round(y_test[i],1)"
   ]
  },
  {
   "cell_type": "code",
   "execution_count": 1386,
   "metadata": {},
   "outputs": [],
   "source": [
    "SSR=0\n",
    "SST=0\n",
    "SSE=0\n",
    "for i in range (0,n):\n",
    "    SST=SST+(y_test[i]-ybar)*(y_test[i]-ybar)\n",
    "    SSR=SSR+(y_pred[i]-ybar)*(y_pred[i]-ybar)\n",
    "    SSE=SSE+(y_test[i]-y_pred[i])*(y_test[i]-y_pred[i])\n",
    "    "
   ]
  },
  {
   "cell_type": "code",
   "execution_count": 1387,
   "metadata": {},
   "outputs": [],
   "source": [
    "RR=SSR/SST"
   ]
  },
  {
   "cell_type": "code",
   "execution_count": 1388,
   "metadata": {},
   "outputs": [
    {
     "data": {
      "text/plain": [
       "0.995039415769138"
      ]
     },
     "execution_count": 1388,
     "metadata": {},
     "output_type": "execute_result"
    }
   ],
   "source": [
    "RR"
   ]
  },
  {
   "cell_type": "code",
   "execution_count": 1389,
   "metadata": {},
   "outputs": [],
   "source": [
    "Adjusted_RR=1-((1-RR)*(n-1))/(n-p-1)"
   ]
  },
  {
   "cell_type": "code",
   "execution_count": 1390,
   "metadata": {},
   "outputs": [
    {
     "data": {
      "text/plain": [
       "0.99173235961523"
      ]
     },
     "execution_count": 1390,
     "metadata": {},
     "output_type": "execute_result"
    }
   ],
   "source": [
    "Adjusted_RR"
   ]
  },
  {
   "cell_type": "code",
   "execution_count": 1391,
   "metadata": {},
   "outputs": [
    {
     "data": {
      "text/plain": [
       "33.47928571428571"
      ]
     },
     "execution_count": 1391,
     "metadata": {},
     "output_type": "execute_result"
    }
   ],
   "source": [
    "MSR=SSR/p\n",
    "MSR\n"
   ]
  },
  {
   "cell_type": "code",
   "execution_count": 1392,
   "metadata": {},
   "outputs": [
    {
     "data": {
      "text/plain": [
       "0.35333333333333217"
      ]
     },
     "execution_count": 1392,
     "metadata": {},
     "output_type": "execute_result"
    }
   ],
   "source": [
    "MSE=SSE/(n-p-1)\n",
    "MSE"
   ]
  },
  {
   "cell_type": "code",
   "execution_count": 1393,
   "metadata": {},
   "outputs": [],
   "source": [
    "F=MSR/MSE"
   ]
  },
  {
   "cell_type": "code",
   "execution_count": 1394,
   "metadata": {},
   "outputs": [
    {
     "data": {
      "text/plain": [
       "94.75269541779005"
      ]
     },
     "execution_count": 1394,
     "metadata": {},
     "output_type": "execute_result"
    }
   ],
   "source": [
    "F"
   ]
  },
  {
   "cell_type": "code",
   "execution_count": 1395,
   "metadata": {},
   "outputs": [
    {
     "data": {
      "text/plain": [
       "267.83428571428567"
      ]
     },
     "execution_count": 1395,
     "metadata": {},
     "output_type": "execute_result"
    }
   ],
   "source": [
    "SSR"
   ]
  },
  {
   "cell_type": "code",
   "execution_count": 1396,
   "metadata": {},
   "outputs": [
    {
     "data": {
      "text/plain": [
       "269.1695238095238"
      ]
     },
     "execution_count": 1396,
     "metadata": {},
     "output_type": "execute_result"
    }
   ],
   "source": [
    "SST"
   ]
  },
  {
   "cell_type": "code",
   "execution_count": 1397,
   "metadata": {},
   "outputs": [
    {
     "data": {
      "text/plain": [
       "4.239999999999986"
      ]
     },
     "execution_count": 1397,
     "metadata": {},
     "output_type": "execute_result"
    }
   ],
   "source": [
    "SSE"
   ]
  },
  {
   "cell_type": "code",
   "execution_count": 1398,
   "metadata": {},
   "outputs": [
    {
     "data": {
      "text/plain": [
       "0    28.4\n",
       "1    26.4\n",
       "2    28.6\n",
       "3    31.6\n",
       "4    28.6\n",
       "dtype: object"
      ]
     },
     "execution_count": 1398,
     "metadata": {},
     "output_type": "execute_result"
    }
   ],
   "source": [
    "y_pred.head()"
   ]
  },
  {
   "cell_type": "code",
   "execution_count": 1399,
   "metadata": {},
   "outputs": [
    {
     "data": {
      "text/plain": [
       "0.20190476190476128"
      ]
     },
     "execution_count": 1399,
     "metadata": {},
     "output_type": "execute_result"
    }
   ],
   "source": [
    "from sklearn.metrics import mean_squared_error\n",
    "mean_squared_error(y_test, y_pred)"
   ]
  },
  {
   "cell_type": "code",
   "execution_count": 1400,
   "metadata": {},
   "outputs": [],
   "source": [
    "s=np.sqrt(MSE)"
   ]
  },
  {
   "cell_type": "code",
   "execution_count": 1401,
   "metadata": {},
   "outputs": [
    {
     "data": {
      "text/plain": [
       "0.594418483337566"
      ]
     },
     "execution_count": 1401,
     "metadata": {},
     "output_type": "execute_result"
    }
   ],
   "source": [
    "s"
   ]
  },
  {
   "cell_type": "code",
   "execution_count": 1402,
   "metadata": {},
   "outputs": [],
   "source": [
    "xw1bar=x_train[0].mean()\n",
    "xw2bar=x_train[1].mean()\n",
    "xw3bar=x_train[2].mean()\n",
    "xw4bar=x_train[3].mean()\n",
    "xw5bar=x_train[4].mean()\n",
    "xw6bar=x_train[5].mean()\n",
    "xw7bar=x_train[6].mean()\n",
    "xw8bar=x_train[7].mean()"
   ]
  },
  {
   "cell_type": "code",
   "execution_count": 1403,
   "metadata": {},
   "outputs": [],
   "source": [
    "sumx1=0\n",
    "sumx2=0\n",
    "sumx3=0\n",
    "sumx4=0\n",
    "sumx5=0\n",
    "sumx6=0\n",
    "sumx7=0\n",
    "sumx8=0"
   ]
  },
  {
   "cell_type": "code",
   "execution_count": 1404,
   "metadata": {},
   "outputs": [
    {
     "data": {
      "text/plain": [
       "70.4"
      ]
     },
     "execution_count": 1404,
     "metadata": {},
     "output_type": "execute_result"
    }
   ],
   "source": [
    "x_test[0][0]"
   ]
  },
  {
   "cell_type": "code",
   "execution_count": 1405,
   "metadata": {},
   "outputs": [],
   "source": [
    "for i in range(0,n):\n",
    "    sumx1=sumx1+(x_test[0][i]-xw1bar)*(x_test[0][i]-xw1bar)\n",
    "    sumx2=sumx2+(x_test[1][i]-xw2bar)*(x_test[1][i]-xw2bar)\n",
    "    sumx3=sumx3+(x_test[2][i]-xw3bar)*(x_test[2][i]-xw3bar)\n",
    "    sumx4=sumx4+(x_test[3][i]-xw4bar)*(x_test[3][i]-xw4bar)\n",
    "    sumx5=sumx5+(x_test[4][i]-xw5bar)*(x_test[4][i]-xw5bar)\n",
    "    sumx6=sumx6+(x_test[5][i]-xw6bar)*(x_test[5][i]-xw6bar)\n",
    "    sumx7=sumx7+(x_test[6][i]-xw7bar)*(x_test[6][i]-xw7bar)\n",
    "    sumx8=sumx8+(x_test[7][i]-xw8bar)*(x_test[7][i]-xw8bar)"
   ]
  },
  {
   "cell_type": "code",
   "execution_count": 1406,
   "metadata": {},
   "outputs": [
    {
     "data": {
      "text/plain": [
       "0.012056081064917385"
      ]
     },
     "execution_count": 1406,
     "metadata": {},
     "output_type": "execute_result"
    }
   ],
   "source": [
    "sw1=s/np.sqrt(sumx1)\n",
    "sw1"
   ]
  },
  {
   "cell_type": "code",
   "execution_count": 1407,
   "metadata": {},
   "outputs": [
    {
     "data": {
      "text/plain": [
       "32.29880849208948"
      ]
     },
     "execution_count": 1407,
     "metadata": {},
     "output_type": "execute_result"
    }
   ],
   "source": [
    "t=w1/sw1\n",
    "t"
   ]
  },
  {
   "cell_type": "code",
   "execution_count": 1408,
   "metadata": {},
   "outputs": [
    {
     "data": {
      "text/plain": [
       "0.0269474140968878"
      ]
     },
     "execution_count": 1408,
     "metadata": {},
     "output_type": "execute_result"
    }
   ],
   "source": [
    "sw2=s/np.sqrt(sumx2)\n",
    "sw2"
   ]
  },
  {
   "cell_type": "code",
   "execution_count": 1409,
   "metadata": {},
   "outputs": [
    {
     "data": {
      "text/plain": [
       "-12.461327308686917"
      ]
     },
     "execution_count": 1409,
     "metadata": {},
     "output_type": "execute_result"
    }
   ],
   "source": [
    "t=w2/sw2\n",
    "t"
   ]
  },
  {
   "cell_type": "code",
   "execution_count": 1410,
   "metadata": {},
   "outputs": [
    {
     "data": {
      "text/plain": [
       "0.03237499428328549"
      ]
     },
     "execution_count": 1410,
     "metadata": {},
     "output_type": "execute_result"
    }
   ],
   "source": [
    "sw3=s/np.sqrt(sumx3)\n",
    "sw3"
   ]
  },
  {
   "cell_type": "code",
   "execution_count": 1411,
   "metadata": {},
   "outputs": [
    {
     "data": {
      "text/plain": [
       "1.7721714218843225"
      ]
     },
     "execution_count": 1411,
     "metadata": {},
     "output_type": "execute_result"
    }
   ],
   "source": [
    "t=w3/sw3\n",
    "t"
   ]
  },
  {
   "cell_type": "code",
   "execution_count": 1412,
   "metadata": {},
   "outputs": [
    {
     "data": {
      "text/plain": [
       "0.008490227793979342"
      ]
     },
     "execution_count": 1412,
     "metadata": {},
     "output_type": "execute_result"
    }
   ],
   "source": [
    "sw4=s/np.sqrt(sumx4)\n",
    "sw4"
   ]
  },
  {
   "cell_type": "code",
   "execution_count": 1413,
   "metadata": {},
   "outputs": [
    {
     "data": {
      "text/plain": [
       "0.40531628419336163"
      ]
     },
     "execution_count": 1413,
     "metadata": {},
     "output_type": "execute_result"
    }
   ],
   "source": [
    "t=w4/sw4\n",
    "t"
   ]
  },
  {
   "cell_type": "code",
   "execution_count": 1414,
   "metadata": {},
   "outputs": [
    {
     "data": {
      "text/plain": [
       "0.012812900448611443"
      ]
     },
     "execution_count": 1414,
     "metadata": {},
     "output_type": "execute_result"
    }
   ],
   "source": [
    "sw5=s/np.sqrt(sumx5)\n",
    "sw5"
   ]
  },
  {
   "cell_type": "code",
   "execution_count": 1415,
   "metadata": {},
   "outputs": [
    {
     "data": {
      "text/plain": [
       "-0.2828519289778351"
      ]
     },
     "execution_count": 1415,
     "metadata": {},
     "output_type": "execute_result"
    }
   ],
   "source": [
    "t=w5/sw5\n",
    "t"
   ]
  },
  {
   "cell_type": "code",
   "execution_count": 1416,
   "metadata": {},
   "outputs": [
    {
     "data": {
      "text/plain": [
       "0.021743738752455968"
      ]
     },
     "execution_count": 1416,
     "metadata": {},
     "output_type": "execute_result"
    }
   ],
   "source": [
    "sw6=s/np.sqrt(sumx6)\n",
    "sw6"
   ]
  },
  {
   "cell_type": "code",
   "execution_count": 1417,
   "metadata": {},
   "outputs": [
    {
     "data": {
      "text/plain": [
       "-1.2778413921139329"
      ]
     },
     "execution_count": 1417,
     "metadata": {},
     "output_type": "execute_result"
    }
   ],
   "source": [
    "t=w6/sw6\n",
    "t"
   ]
  },
  {
   "cell_type": "code",
   "execution_count": 1418,
   "metadata": {},
   "outputs": [
    {
     "data": {
      "text/plain": [
       "0.017745622757059553"
      ]
     },
     "execution_count": 1418,
     "metadata": {},
     "output_type": "execute_result"
    }
   ],
   "source": [
    "sw7=s/np.sqrt(sumx7)\n",
    "sw7"
   ]
  },
  {
   "cell_type": "code",
   "execution_count": 1419,
   "metadata": {},
   "outputs": [
    {
     "data": {
      "text/plain": [
       "0.8381278191820518"
      ]
     },
     "execution_count": 1419,
     "metadata": {},
     "output_type": "execute_result"
    }
   ],
   "source": [
    "t=w7/sw7\n",
    "t"
   ]
  },
  {
   "cell_type": "code",
   "execution_count": 1420,
   "metadata": {},
   "outputs": [
    {
     "data": {
      "text/plain": [
       "0.020638088422897882"
      ]
     },
     "execution_count": 1420,
     "metadata": {},
     "output_type": "execute_result"
    }
   ],
   "source": [
    "sw8=s/np.sqrt(sumx8)\n",
    "sw8"
   ]
  },
  {
   "cell_type": "code",
   "execution_count": 1421,
   "metadata": {},
   "outputs": [
    {
     "data": {
      "text/plain": [
       "0.5648520903595463"
      ]
     },
     "execution_count": 1421,
     "metadata": {},
     "output_type": "execute_result"
    }
   ],
   "source": [
    "t=w8/sw8\n",
    "t"
   ]
  }
 ],
 "metadata": {
  "kernelspec": {
   "display_name": "Python 3",
   "language": "python",
   "name": "python3"
  }
 },
 "nbformat": 4,
 "nbformat_minor": 2
}
